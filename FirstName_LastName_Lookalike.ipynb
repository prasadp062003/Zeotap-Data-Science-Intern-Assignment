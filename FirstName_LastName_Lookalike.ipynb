{
  "nbformat": 4,
  "nbformat_minor": 0,
  "metadata": {
    "colab": {
      "provenance": []
    },
    "kernelspec": {
      "name": "python3",
      "display_name": "Python 3"
    },
    "language_info": {
      "name": "python"
    }
  },
  "cells": [
    {
      "cell_type": "code",
      "execution_count": 3,
      "metadata": {
        "id": "5EXRbF7Wzmf2",
        "colab": {
          "base_uri": "https://localhost:8080/"
        },
        "outputId": "6aaa471a-ffd3-492b-a4aa-ec6f0f2c48c5"
      },
      "outputs": [
        {
          "output_type": "stream",
          "name": "stdout",
          "text": [
            "Lookalike model generated and saved to 'FirstName_LastName_Lookalike'\n"
          ]
        }
      ],
      "source": [
        "import pandas as pd\n",
        "import numpy as np\n",
        "from sklearn.metrics.pairwise import cosine_similarity\n",
        "from sklearn.preprocessing import StandardScaler\n",
        "\n",
        "# Load datasets\n",
        "customers = pd.read_csv('Customers.csv')\n",
        "products = pd.read_csv('Products.csv')\n",
        "transactions = pd.read_csv('Transactions.csv')\n",
        "\n",
        "# Data Preprocessing: Merging datasets to get customer, product, and transaction information\n",
        "# Merge transactions with customer and product data\n",
        "transactions = pd.merge(transactions, customers[['CustomerID', 'Region']], on='CustomerID', how='left')\n",
        "transactions = pd.merge(transactions, products[['ProductID', 'ProductName', 'Category', 'Price']], on='ProductID', how='left')\n",
        "\n",
        "# Feature Engineering: Creating customer profiles based on their transaction history and product purchases\n",
        "# Customer profile: Aggregating total value and total quantity of products purchased by each customer\n",
        "customer_profile = transactions.groupby('CustomerID').agg({\n",
        "    'TotalValue': 'sum',  # Total value of purchases\n",
        "    'Quantity': 'sum',  # Total quantity of products purchased\n",
        "}).reset_index()\n",
        "\n",
        "# One-hot encoding for product categories purchased by each customer\n",
        "category_dummies = pd.get_dummies(transactions['Category'], prefix='Category')\n",
        "category_features = transactions[['CustomerID']].join(category_dummies).groupby('CustomerID').sum().reset_index()\n",
        "\n",
        "# Merging customer profile with product category features to create the complete customer profile\n",
        "customer_features = pd.merge(customer_profile, category_features, on='CustomerID')\n",
        "\n",
        "# Normalizing the features using StandardScaler\n",
        "scaler = StandardScaler()\n",
        "customer_features_scaled = scaler.fit_transform(customer_features.drop('CustomerID', axis=1))\n",
        "\n",
        "# Compute Cosine Similarity between customers\n",
        "cosine_sim = cosine_similarity(customer_features_scaled)\n",
        "\n",
        "# Function to get top N lookalike customers based on cosine similarity\n",
        "def get_top_lookalikes(customer_id, n=3):\n",
        "    customer_index = customer_features[customer_features['CustomerID'] == customer_id].index[0]\n",
        "    similarity_scores = list(enumerate(cosine_sim[customer_index]))\n",
        "    sorted_scores = sorted(similarity_scores, key=lambda x: x[1], reverse=True)\n",
        "\n",
        "    # Fetching the top N similar customers (excluding the customer itself)\n",
        "    top_customers = [(customer_features.iloc[i[0]]['CustomerID'], i[1]) for i in sorted_scores[1:n+1]]\n",
        "    return top_customers\n",
        "\n",
        "# Generating Lookalike Mapping for customers C0001 - C0020\n",
        "lookalike_map = {}\n",
        "for customer_id in customers['CustomerID'][:20]:  # First 20 customers (C0001 - C0020)\n",
        "    lookalikes = get_top_lookalikes(customer_id)\n",
        "    lookalike_map[customer_id] = lookalikes\n",
        "\n",
        "# Converting the lookalike map into a DataFrame for output\n",
        "lookalike_df = pd.DataFrame([\n",
        "    {'CustomerID': customer_id, 'Lookalikes': str(lookalikes)}\n",
        "    for customer_id, lookalikes in lookalike_map.items()\n",
        "])\n",
        "\n",
        "# Saving the result as 'Lookalike.csv'\n",
        "lookalike_df.to_csv('FirstName_LastName_Lookalike.csv', index=False)\n",
        "\n",
        "print(\"Lookalike model generated and saved to 'FirstName_LastName_Lookalike'\")\n",
        "\n"
      ]
    }
  ]
}